{
  "nbformat": 4,
  "nbformat_minor": 0,
  "metadata": {
    "colab": {
      "provenance": [],
      "authorship_tag": "ABX9TyM9/69lI0brjO5yzbmzTSeB",
      "include_colab_link": true
    },
    "kernelspec": {
      "name": "python3",
      "display_name": "Python 3"
    },
    "language_info": {
      "name": "python"
    }
  },
  "cells": [
    {
      "cell_type": "markdown",
      "metadata": {
        "id": "view-in-github",
        "colab_type": "text"
      },
      "source": [
        "<a href=\"https://colab.research.google.com/github/VinitaChowkekar/Data-Science-Projects/blob/Data-Science/Hotel_Management_System.ipynb\" target=\"_parent\"><img src=\"https://colab.research.google.com/assets/colab-badge.svg\" alt=\"Open In Colab\"/></a>"
      ]
    },
    {
      "cell_type": "code",
      "execution_count": null,
      "metadata": {
        "colab": {
          "base_uri": "https://localhost:8080/"
        },
        "id": "cjb4VBVfL_UP",
        "outputId": "63f31e36-6e31-4b0a-9193-af1a0df5f179"
      },
      "outputs": [
        {
          "output_type": "stream",
          "name": "stdout",
          "text": [
            "Welcome to the restaurant\n",
            "Menu:\n",
            "Dosa : Rupee 100\n",
            "Idli : Rupee 200\n",
            "Dhokla : Rupee 300\n",
            "Samosa : Rupee 400\n",
            "Biryani : Rupee 500\n",
            "-------------------------------\n",
            "Enter the Prize:200\n",
            "Item is not available. Place another order\n",
            "Enter the Prize:500\n",
            "Item is not available. Place another order\n",
            "Enter the Prize:100\n",
            "Dosa is available. Please enjoy :)\n"
          ]
        }
      ],
      "source": [
        "rec={100:\"Dosa\",200:\"Idli\",300:\"Dhokla\",400:\"Samosa\",500:\"Biryani\"}\n",
        "print(\"Welcome to the restaurant\")\n",
        "print(\"Menu:\")\n",
        "for i in rec:\n",
        "  print(rec[i],\": Rupee\",i)\n",
        "print(\"-------------------------------\")\n",
        "while True:\n",
        "    order=int(input(\"Enter the Prize:\"))\n",
        "    if order==100:\n",
        "      print(rec[order], \"is available. Please enjoy :)\")\n",
        "      break\n",
        "    else:\n",
        "      print(\"Item is not available. Place another order\")\n"
      ]
    },
    {
      "cell_type": "code",
      "source": [],
      "metadata": {
        "id": "9Bmge2bgOSAu"
      },
      "execution_count": null,
      "outputs": []
    }
  ]
}